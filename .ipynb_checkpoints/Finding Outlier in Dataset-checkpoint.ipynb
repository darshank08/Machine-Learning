{
 "cells": [
  {
   "cell_type": "markdown",
   "id": "dbf649c1",
   "metadata": {},
   "source": [
    "# What is an Outlier?"
   ]
  },
  {
   "cell_type": "markdown",
   "id": "bc835b04",
   "metadata": {},
   "source": [
    "An outlier is a data point in a data set that is distant from all other observations. A data point that lies outside the overall distribution of the dataset."
   ]
  },
  {
   "cell_type": "markdown",
   "id": "13e1cd71",
   "metadata": {},
   "source": [
    "# What are the criteria to identify an outlier?"
   ]
  },
  {
   "cell_type": "raw",
   "id": "2c11abb3",
   "metadata": {},
   "source": [
    "1.Variability in the data\n",
    "2.An experimental measurement error"
   ]
  },
  {
   "cell_type": "markdown",
   "id": "dd38ed0d",
   "metadata": {},
   "source": [
    "# What are the criteria to identify an outlier?"
   ]
  },
  {
   "cell_type": "raw",
   "id": "6a33301b",
   "metadata": {},
   "source": [
    "1.Data point that falls outside of 1.5 times of an interquartile range above the 3rd quartile and below the 1st quartile\n",
    "2.Data point that falls outside of 3 standard deviations. we can use a z score and if the z score falls outside of 2 standard deviation"
   ]
  },
  {
   "cell_type": "markdown",
   "id": "42e1b521",
   "metadata": {},
   "source": [
    "# What are the impacts of having outliers in a dataset?"
   ]
  },
  {
   "cell_type": "raw",
   "id": "defc00d0",
   "metadata": {},
   "source": [
    "1.It causes various problems during our statistical analysis\n",
    "2.It may cause a significant impact on the mean and the standard deviation"
   ]
  },
  {
   "cell_type": "markdown",
   "id": "b1b9410a",
   "metadata": {},
   "source": [
    "# Various ways of finding the outlier."
   ]
  },
  {
   "cell_type": "raw",
   "id": "e67f9d13",
   "metadata": {},
   "source": [
    "1.Using scatter plots\n",
    "2.Box plot\n",
    "3.using z score\n",
    "4.using the IQR interquantile range"
   ]
  },
  {
   "cell_type": "markdown",
   "id": "c746f758",
   "metadata": {},
   "source": [
    "# Detecting outlier using Z score"
   ]
  },
  {
   "cell_type": "raw",
   "id": "50dbcf3d",
   "metadata": {},
   "source": [
    "Formula for Z score = (Observation — Mean)/Standard Deviation\n",
    "\n",
    "z = (X — μ) / σ"
   ]
  },
  {
   "cell_type": "code",
   "execution_count": 1,
   "id": "5b7f67ef",
   "metadata": {},
   "outputs": [],
   "source": [
    "import matplotlib.pyplot as plt\n",
    "import numpy as np\n",
    "%matplotlib inline"
   ]
  },
  {
   "cell_type": "code",
   "execution_count": 2,
   "id": "f972342f",
   "metadata": {},
   "outputs": [],
   "source": [
    "dataset = [11,10,12,14,12,15,14,13,15,102,12,14,17,19,107, 10,13,12,14,12,108,12,11,14,13,15,10,15,12,10,14,13,15,10]"
   ]
  },
  {
   "cell_type": "code",
   "execution_count": 8,
   "id": "980cddfa",
   "metadata": {},
   "outputs": [],
   "source": [
    "outliers = []\n",
    "def detect_outlier(data):\n",
    "    threshold = 3\n",
    "    mean = np.mean(data)\n",
    "    std = np.std(data)\n",
    "    \n",
    "    for i in data:\n",
    "        z_score = (i - mean)/std\n",
    "        if np.abs(z_score) > threshold:\n",
    "            outliers.append(i)\n",
    "    return outliers\n",
    "            "
   ]
  },
  {
   "cell_type": "code",
   "execution_count": 6,
   "id": "00dea6a8",
   "metadata": {},
   "outputs": [],
   "source": [
    "outliers_pt = detect_outlier(dataset)"
   ]
  },
  {
   "cell_type": "code",
   "execution_count": 7,
   "id": "1e70b41d",
   "metadata": {},
   "outputs": [
    {
     "data": {
      "text/plain": [
       "[102, 107, 108]"
      ]
     },
     "execution_count": 7,
     "metadata": {},
     "output_type": "execute_result"
    }
   ],
   "source": [
    "outliers_pt"
   ]
  },
  {
   "cell_type": "markdown",
   "id": "594fe1ea",
   "metadata": {},
   "source": [
    "# InterQuantile Range"
   ]
  },
  {
   "cell_type": "markdown",
   "id": "c44ee8f2",
   "metadata": {},
   "source": [
    "75%- 25% values in a dataset"
   ]
  },
  {
   "cell_type": "markdown",
   "id": "ce1c47ca",
   "metadata": {},
   "source": [
    "## Steps\n",
    "### 1. Arrange the data in increasing order\n",
    "### 2. Calculate first(q1) and third quartile(q3)\n",
    "### 3. Find interquartile range (q3-q1)\n",
    "### 4.Find lower bound q1*1.5\n",
    "### 5.Find upper bound q3*1.5"
   ]
  },
  {
   "cell_type": "markdown",
   "id": "aabc5b5d",
   "metadata": {},
   "source": [
    "Anything that lies outside of lower and upper bound is an outlier"
   ]
  },
  {
   "cell_type": "code",
   "execution_count": 17,
   "id": "eec2fc0f",
   "metadata": {},
   "outputs": [],
   "source": [
    "# sort the dataset\n",
    "dataset = sorted(dataset)"
   ]
  },
  {
   "cell_type": "code",
   "execution_count": 11,
   "id": "ccae8cbf",
   "metadata": {},
   "outputs": [
    {
     "data": {
      "text/plain": [
       "[10,\n",
       " 10,\n",
       " 10,\n",
       " 10,\n",
       " 10,\n",
       " 11,\n",
       " 11,\n",
       " 12,\n",
       " 12,\n",
       " 12,\n",
       " 12,\n",
       " 12,\n",
       " 12,\n",
       " 12,\n",
       " 13,\n",
       " 13,\n",
       " 13,\n",
       " 13,\n",
       " 14,\n",
       " 14,\n",
       " 14,\n",
       " 14,\n",
       " 14,\n",
       " 14,\n",
       " 15,\n",
       " 15,\n",
       " 15,\n",
       " 15,\n",
       " 15,\n",
       " 17,\n",
       " 19,\n",
       " 102,\n",
       " 107,\n",
       " 108]"
      ]
     },
     "execution_count": 11,
     "metadata": {},
     "output_type": "execute_result"
    }
   ],
   "source": [
    "dataset"
   ]
  },
  {
   "cell_type": "code",
   "execution_count": 19,
   "id": "8a064e75",
   "metadata": {},
   "outputs": [],
   "source": [
    "# calculating first and third quantile\n",
    "first_q,third_q = np.percentile(dataset,[25,75])"
   ]
  },
  {
   "cell_type": "code",
   "execution_count": 20,
   "id": "18684b65",
   "metadata": {},
   "outputs": [
    {
     "name": "stdout",
     "output_type": "stream",
     "text": [
      "12.0 15.0\n"
     ]
    }
   ],
   "source": [
    "print(first_q,third_q)"
   ]
  },
  {
   "cell_type": "code",
   "execution_count": 21,
   "id": "5142212a",
   "metadata": {},
   "outputs": [
    {
     "name": "stdout",
     "output_type": "stream",
     "text": [
      "3.0\n"
     ]
    }
   ],
   "source": [
    "# finding interquartile randge (q3-q1)\n",
    "iqr = third_q - first_q\n",
    "print(iqr)"
   ]
  },
  {
   "cell_type": "code",
   "execution_count": 22,
   "id": "6ac2a870",
   "metadata": {},
   "outputs": [],
   "source": [
    "# finding lowe bound value and upper bounnd value\n",
    "lower_bound = first_q - (1.5*iqr)\n",
    "upper_bound = third_q + (1.5*iqr)"
   ]
  },
  {
   "cell_type": "code",
   "execution_count": 23,
   "id": "17018684",
   "metadata": {},
   "outputs": [
    {
     "name": "stdout",
     "output_type": "stream",
     "text": [
      "7.5 19.5\n"
     ]
    }
   ],
   "source": [
    "print(lower_bound,upper_bound)"
   ]
  },
  {
   "cell_type": "code",
   "execution_count": null,
   "id": "14eae1b5",
   "metadata": {},
   "outputs": [],
   "source": []
  }
 ],
 "metadata": {
  "kernelspec": {
   "display_name": "Python 3",
   "language": "python",
   "name": "python3"
  },
  "language_info": {
   "codemirror_mode": {
    "name": "ipython",
    "version": 3
   },
   "file_extension": ".py",
   "mimetype": "text/x-python",
   "name": "python",
   "nbconvert_exporter": "python",
   "pygments_lexer": "ipython3",
   "version": "3.8.8"
  }
 },
 "nbformat": 4,
 "nbformat_minor": 5
}
